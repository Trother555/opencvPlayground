{
 "cells": [
  {
   "cell_type": "code",
   "execution_count": 1,
   "metadata": {},
   "outputs": [],
   "source": [
    "import cv2\n",
    "import numpy as np \n",
    "import matplotlib.pyplot as plt"
   ]
  },
  {
   "cell_type": "code",
   "execution_count": 2,
   "metadata": {},
   "outputs": [],
   "source": [
    "def show_image(image, title=\"Image\"):\n",
    "    \"\"\"Display an image with cv2\n",
    "    \n",
    "    Args:\n",
    "        image (ndarray): An imag to show\n",
    "        title (str): A window title.\n",
    "    \"\"\"\n",
    "    cv2.imshow(title, image)\n",
    "    cv2.waitKey(0)\n",
    "    cv2.destroyAllWindows()"
   ]
  },
  {
   "cell_type": "markdown",
   "metadata": {},
   "source": [
    "# Transform image"
   ]
  },
  {
   "cell_type": "code",
   "execution_count": 185,
   "metadata": {},
   "outputs": [],
   "source": [
    "def transform(target, matrix):\n",
    "    \"\"\"Transform target image with transform matrix\n",
    "    \n",
    "    Args:\n",
    "        target (ndarray): image to transform\n",
    "        matrix (list, ndarray): Either list of 6 floats or a numpy array of shape 2,3 - transform matrix\n",
    "    \"\"\"\n",
    "    error = ValueError(\"Error: matrix must be a list of 6 elements or ndarraray of shape (2,3)\")\n",
    "    if type(matrix) is list:\n",
    "        if len(matrix) != 6:\n",
    "            raise error\n",
    "        matrix = np.array(matrix).reshape(2,3)\n",
    "    elif not (hasattr(matrix, 'shape') and matrix.shape == (2,3)):\n",
    "        raise error\n",
    "    return cv2.warpAffine(target, matrix, target.shape[:2][::-1])"
   ]
  },
  {
   "cell_type": "markdown",
   "metadata": {},
   "source": [
    "# Cut the pice of image"
   ]
  },
  {
   "cell_type": "code",
   "execution_count": 121,
   "metadata": {},
   "outputs": [],
   "source": [
    "def cut_off(target, roi_corners):\n",
    "    \"\"\"Cut off a roi polygon from image\n",
    "    \n",
    "    Args:\n",
    "        target (ndarray): target image\n",
    "        roi_corners (list): list of polygon lists\n",
    "        \n",
    "    Returns:\n",
    "        A numpy array with roi cropped to its bounding box and mask\n",
    "    \"\"\"\n",
    "    \n",
    "    mask = np.zeros(target.shape, dtype=np.uint8)\n",
    "    channel_count = target.shape[2]\n",
    "    ignore_mask_color = (255,)*channel_count\n",
    "    roi_corners = np.array([roi_corners], dtype=np.int32)\n",
    "    \n",
    "    _ = cv2.fillPoly(mask, roi_corners, ignore_mask_color)\n",
    "    masked_image = cv2.bitwise_and(target, mask)\n",
    "    x,y,w,h = cv2.boundingRect(mask[:,:,1])\n",
    "    return masked_image[x:x+w,y:y+h,:], mask[x:x+w, y:y+h,1]"
   ]
  },
  {
   "cell_type": "markdown",
   "metadata": {},
   "source": [
    "# Put the pice on top"
   ]
  },
  {
   "cell_type": "code",
   "execution_count": 148,
   "metadata": {},
   "outputs": [],
   "source": [
    "def paste_pice(target, pice, mask, pos):\n",
    "    \"\"\"Paste pice on top of the target picture with mask.\n",
    "    \n",
    "    Args:\n",
    "        target (ndarray): target picture\n",
    "        pice (ndarray): picture to paste\n",
    "        mask (ndarray): picture mask\n",
    "        pos (tuple): (x, y) position on target picture to put pice on\n",
    "    \"\"\"\n",
    "    x,y = pos\n",
    "    w,h = pice.shape[:2]\n",
    "    mask_inv = cv2.bitwise_not(mask)\n",
    "    roi = target[x:x+w, y:y+h]\n",
    "    blacked = cv2.bitwise_and(roi, roi, mask = mask_inv)\n",
    "    dst = cv2.add(blacked,pice)\n",
    "    target[x:x+w, y:y+h] = dst"
   ]
  },
  {
   "cell_type": "code",
   "execution_count": 191,
   "metadata": {},
   "outputs": [],
   "source": [
    "target = cv2.imread('2.jpg', cv2.IMREAD_UNCHANGED)"
   ]
  },
  {
   "cell_type": "code",
   "execution_count": 192,
   "metadata": {},
   "outputs": [],
   "source": [
    "show_image(target)"
   ]
  },
  {
   "cell_type": "code",
   "execution_count": 193,
   "metadata": {},
   "outputs": [],
   "source": [
    "pice, mask = cut_off(target, [(100,100), (500,200), (400,400), (200, 500)])"
   ]
  },
  {
   "cell_type": "code",
   "execution_count": 194,
   "metadata": {},
   "outputs": [],
   "source": [
    "show_image(pice)"
   ]
  },
  {
   "cell_type": "code",
   "execution_count": 195,
   "metadata": {},
   "outputs": [],
   "source": [
    "t = target.copy()"
   ]
  },
  {
   "cell_type": "code",
   "execution_count": 196,
   "metadata": {},
   "outputs": [],
   "source": [
    "paste_pice(t, pice, mask, (50,250))"
   ]
  },
  {
   "cell_type": "code",
   "execution_count": 197,
   "metadata": {},
   "outputs": [],
   "source": [
    "show_image(t)"
   ]
  }
 ],
 "metadata": {
  "kernelspec": {
   "display_name": "Python 3",
   "language": "python",
   "name": "python3"
  },
  "language_info": {
   "codemirror_mode": {
    "name": "ipython",
    "version": 3
   },
   "file_extension": ".py",
   "mimetype": "text/x-python",
   "name": "python",
   "nbconvert_exporter": "python",
   "pygments_lexer": "ipython3",
   "version": "3.6.4"
  }
 },
 "nbformat": 4,
 "nbformat_minor": 2
}
