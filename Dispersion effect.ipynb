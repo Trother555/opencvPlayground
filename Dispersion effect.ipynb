{
 "cells": [
  {
   "cell_type": "code",
   "execution_count": 1,
   "metadata": {},
   "outputs": [],
   "source": [
    "import cv2\n",
    "import numpy as np \n",
    "import matplotlib.pyplot as plt"
   ]
  },
  {
   "cell_type": "code",
   "execution_count": 119,
   "metadata": {},
   "outputs": [],
   "source": [
    "def show_image(image, title=\"Image\"):\n",
    "    \"\"\"Display an image with cv2\n",
    "    \n",
    "    Args:\n",
    "        image (ndarray): An imag to show\n",
    "        title (str): A window title.\n",
    "    \"\"\"\n",
    "    cv2.imshow(title, image)\n",
    "    cv2.waitKey(0)\n",
    "    cv2.destroyAllWindows()\n",
    "\n",
    "    \n",
    "def transform(target, matrix):\n",
    "    \"\"\"Transform target image with transform matrix\n",
    "    \n",
    "    Args:\n",
    "        target (ndarray): image to transform\n",
    "        matrix (list, ndarray): Either list of 6 floats or a numpy array of shape 2,3 - transform matrix\n",
    "    \"\"\"\n",
    "    error = ValueError(\"Error: matrix must be a list of 6 elements or ndarraray of shape (2,3)\")\n",
    "    if type(matrix) is list:\n",
    "        if len(matrix) != 6:\n",
    "            raise error\n",
    "        matrix = np.array(matrix).reshape(2,3)\n",
    "    elif not (hasattr(matrix, 'shape') and matrix.shape == (2,3)):\n",
    "        raise error\n",
    "    return cv2.warpAffine(target, matrix, target.shape[:2][::-1])\n",
    "\n",
    "\n",
    "def cut_off(target, roi_corners):\n",
    "    \"\"\"Cut off a roi polygon from image\n",
    "    \n",
    "    Args:\n",
    "        target (ndarray): target image\n",
    "        roi_corners (list): list of polygon lists\n",
    "        \n",
    "    Returns:\n",
    "        A numpy array with roi cropped to its bounding box and mask\n",
    "    \"\"\"\n",
    "    \n",
    "    mask = np.zeros(target.shape, dtype=np.uint8)\n",
    "    channel_count = target.shape[2]\n",
    "    ignore_mask_color = (255,)*channel_count\n",
    "    roi_corners = np.array([roi_corners], dtype=np.int32)\n",
    "    \n",
    "    _ = cv2.fillPoly(mask, roi_corners, ignore_mask_color)\n",
    "    masked_image = cv2.bitwise_and(target, mask)\n",
    "    x,y,w,h = cv2.boundingRect(mask[:,:,1])\n",
    "    return masked_image[x:x+w,y:y+h,:], mask[x:x+w, y:y+h,1]\n",
    "\n",
    "\n",
    "def cut_off_alt(target, roi_corners):\n",
    "    \"\"\"Cut off a roi polygon from image\n",
    "    \n",
    "    Args:\n",
    "        target (ndarray): target image\n",
    "        roi_corners (list): list of polygon lists\n",
    "        \n",
    "    Returns:\n",
    "        A numpy array with roi cropped to its bounding box and mask\n",
    "    \"\"\"\n",
    "    \n",
    "    mask = np.zeros(target.shape, dtype=np.uint8)\n",
    "    channel_count = target.shape[2]\n",
    "    ignore_mask_color = (255,)*channel_count\n",
    "    roi_corners = np.array([roi_corners], dtype=np.int32)\n",
    "    \n",
    "    _ = cv2.fillPoly(mask, roi_corners, ignore_mask_color)\n",
    "    masked_image = cv2.bitwise_and(target, mask)\n",
    "    x,y,w,h = cv2.boundingRect(mask[:,:,1])\n",
    "    return masked_image, mask[:,:,1]\n",
    "\n",
    "\n",
    "def paste_pice(target, pice, mask, pos):\n",
    "    \"\"\"Paste pice on top of the target picture with mask.\n",
    "    \n",
    "    Args:\n",
    "        target (ndarray): target picture\n",
    "        pice (ndarray): picture to paste\n",
    "        mask (ndarray): picture mask\n",
    "        pos (tuple): (x, y) position on target picture to put pice on\n",
    "    \"\"\"\n",
    "    x,y = pos\n",
    "    w,h = pice.shape[:2]\n",
    "    mask_inv = cv2.bitwise_not(mask)\n",
    "    roi = target[x:x+w, y:y+h]\n",
    "    blacked = cv2.bitwise_and(roi, roi, mask = mask_inv)\n",
    "    dst = cv2.add(blacked,pice)\n",
    "    target[x:x+w, y:y+h] = dst\n",
    "    \n",
    "    \n",
    "def paste_pice_alt(target, pice, mask):\n",
    "    \"\"\"Paste pice on top of the target picture with mask.\n",
    "    \n",
    "    Args:\n",
    "        target (ndarray): target picture\n",
    "        pice (ndarray): picture to paste\n",
    "        mask (ndarray): picture mask\n",
    "        pos (tuple): (x, y) position on target picture to put pice on\n",
    "    \"\"\"\n",
    "    mask_inv = cv2.bitwise_not(mask)\n",
    "    blacked = cv2.bitwise_and(target, target, mask = mask_inv)\n",
    "    target = cv2.add(blacked,pice)"
   ]
  },
  {
   "cell_type": "code",
   "execution_count": 3,
   "metadata": {},
   "outputs": [],
   "source": [
    "t = cv2.imread('square.jpg')"
   ]
  },
  {
   "cell_type": "code",
   "execution_count": 4,
   "metadata": {},
   "outputs": [],
   "source": [
    "show_image(t)"
   ]
  },
  {
   "cell_type": "code",
   "execution_count": 5,
   "metadata": {},
   "outputs": [],
   "source": [
    "im, mask = cut_off(t, [(100,100), (100, 600), (600,600)])"
   ]
  },
  {
   "cell_type": "code",
   "execution_count": 6,
   "metadata": {},
   "outputs": [],
   "source": [
    "show_image(im)"
   ]
  },
  {
   "cell_type": "markdown",
   "metadata": {},
   "source": [
    "# Squared dispersion"
   ]
  },
  {
   "cell_type": "code",
   "execution_count": 382,
   "metadata": {},
   "outputs": [],
   "source": [
    "target = cv2.imread('square.jpg')"
   ]
  },
  {
   "cell_type": "code",
   "execution_count": 8,
   "metadata": {},
   "outputs": [],
   "source": [
    "square_size = (50, 50)\n",
    "sw,sh = square_size\n",
    "w,h,_ = target.shape"
   ]
  },
  {
   "cell_type": "code",
   "execution_count": 391,
   "metadata": {},
   "outputs": [],
   "source": [
    "show_image(mask)"
   ]
  },
  {
   "cell_type": "code",
   "execution_count": 256,
   "metadata": {},
   "outputs": [],
   "source": [
    "square = [(x0, y0), (x0, y0+sh), (x0+sw, y0+sh), (x0+sw, y0)]"
   ]
  },
  {
   "cell_type": "code",
   "execution_count": 21,
   "metadata": {},
   "outputs": [],
   "source": [
    "target[x0:x0+sw,y0:y0+sh,:] = 0"
   ]
  },
  {
   "cell_type": "code",
   "execution_count": 388,
   "metadata": {},
   "outputs": [],
   "source": [
    "sq, mask = cut_off_alt(target, square)"
   ]
  },
  {
   "cell_type": "code",
   "execution_count": 389,
   "metadata": {},
   "outputs": [],
   "source": [
    "coef = 1/np.round(np.log(y0+1))\n",
    "mask = transform(mask, [coef, 0, h/2-y0, 0, coef, 0])\n",
    "sq = transform(sq,  [coef, 0, h/2-y0, 0, coef, 0])"
   ]
  },
  {
   "cell_type": "code",
   "execution_count": 386,
   "metadata": {},
   "outputs": [],
   "source": [
    "mask_inv = cv2.bitwise_not(mask)\n",
    "blacked = cv2.bitwise_and(target, target, mask = mask_inv)"
   ]
  },
  {
   "cell_type": "code",
   "execution_count": 379,
   "metadata": {},
   "outputs": [],
   "source": [
    "t = cv2.add(blacked, sq)"
   ]
  },
  {
   "cell_type": "code",
   "execution_count": 366,
   "metadata": {},
   "outputs": [],
   "source": [
    "paste_pice_alt(target, sq, mask)"
   ]
  },
  {
   "cell_type": "code",
   "execution_count": 50,
   "metadata": {},
   "outputs": [],
   "source": [
    "y0 = 0\n",
    "while y0<h/2:\n",
    "    x0 = 0\n",
    "    while x0<w-sw:\n",
    "        square = [(x0, y0), (x0, y0+sh), (x0+sw, y0+sh), (x0+sw, y0)] \n",
    "        sq, mask = cut_off(target, square)\n",
    "        target[x0:x0+sw,y0:y0+sh,:] = 255\n",
    "        sq = transform(sq, [1/(y0+1), 0, h/2-y0, 0, 1/(y0+1), 0])\n",
    "        mask = transform(mask, [1/(y0+1), 0, h/2-y0, 0, 1/(y0+1), 0])\n",
    "        paste_pice(target, sq, mask, (x0, y0))\n",
    "        x0 += sw\n",
    "    y0 += sh"
   ]
  },
  {
   "cell_type": "code",
   "execution_count": 51,
   "metadata": {},
   "outputs": [],
   "source": [
    "show_image(target)"
   ]
  }
 ],
 "metadata": {
  "kernelspec": {
   "display_name": "Python 3",
   "language": "python",
   "name": "python3"
  },
  "language_info": {
   "codemirror_mode": {
    "name": "ipython",
    "version": 3
   },
   "file_extension": ".py",
   "mimetype": "text/x-python",
   "name": "python",
   "nbconvert_exporter": "python",
   "pygments_lexer": "ipython3",
   "version": "3.6.4"
  }
 },
 "nbformat": 4,
 "nbformat_minor": 2
}
