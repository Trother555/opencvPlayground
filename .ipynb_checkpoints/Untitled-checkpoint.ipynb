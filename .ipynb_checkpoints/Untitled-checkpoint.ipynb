{
 "cells": [
  {
   "cell_type": "code",
   "execution_count": 1,
   "metadata": {},
   "outputs": [],
   "source": [
    "import cv2\n",
    "import numpy as np \n",
    "import matplotlib.pyplot as plt"
   ]
  },
  {
   "cell_type": "code",
   "execution_count": 2,
   "metadata": {},
   "outputs": [],
   "source": [
    "def show_image(image, title=\"Image\"):\n",
    "    \"\"\"Display an image with cv2\n",
    "    \n",
    "    Args:\n",
    "        image (ndarray): An imag to show\n",
    "        title (str): A window title.\n",
    "    \"\"\"\n",
    "    cv2.imshow(title, image)\n",
    "    cv2.waitKey(0)\n",
    "    cv2.destroyAllWindows()"
   ]
  },
  {
   "cell_type": "code",
   "execution_count": 126,
   "metadata": {},
   "outputs": [],
   "source": [
    "target = cv2.imread('2.jpg', cv2.IMREAD_UNCHANGED)"
   ]
  },
  {
   "cell_type": "code",
   "execution_count": 4,
   "metadata": {},
   "outputs": [
    {
     "ename": "NameError",
     "evalue": "name 'masked_image' is not defined",
     "output_type": "error",
     "traceback": [
      "\u001b[1;31m---------------------------------------------------------------------------\u001b[0m",
      "\u001b[1;31mNameError\u001b[0m                                 Traceback (most recent call last)",
      "\u001b[1;32m<ipython-input-4-1e670be1fbce>\u001b[0m in \u001b[0;36m<module>\u001b[1;34m()\u001b[0m\n\u001b[0;32m      1\u001b[0m \u001b[0mtransform_matrix\u001b[0m \u001b[1;33m=\u001b[0m \u001b[0mnp\u001b[0m\u001b[1;33m.\u001b[0m\u001b[0marray\u001b[0m\u001b[1;33m(\u001b[0m\u001b[1;33m[\u001b[0m\u001b[1;36m1.\u001b[0m\u001b[1;33m,\u001b[0m\u001b[1;36m0\u001b[0m\u001b[1;33m,\u001b[0m\u001b[1;36m300\u001b[0m\u001b[1;33m,\u001b[0m\u001b[1;36m0\u001b[0m\u001b[1;33m,\u001b[0m\u001b[1;36m1\u001b[0m\u001b[1;33m,\u001b[0m\u001b[1;36m50\u001b[0m\u001b[1;33m]\u001b[0m\u001b[1;33m)\u001b[0m\u001b[1;33m.\u001b[0m\u001b[0mreshape\u001b[0m\u001b[1;33m(\u001b[0m\u001b[1;36m2\u001b[0m\u001b[1;33m,\u001b[0m\u001b[1;36m3\u001b[0m\u001b[1;33m)\u001b[0m\u001b[1;33m\u001b[0m\u001b[0m\n\u001b[1;32m----> 2\u001b[1;33m \u001b[0mtarget_transformed\u001b[0m \u001b[1;33m=\u001b[0m \u001b[0mcv2\u001b[0m\u001b[1;33m.\u001b[0m\u001b[0mwarpAffine\u001b[0m\u001b[1;33m(\u001b[0m\u001b[0mmasked_image\u001b[0m\u001b[1;33m,\u001b[0m \u001b[0mtransform_matrix\u001b[0m\u001b[1;33m,\u001b[0m \u001b[1;33m(\u001b[0m\u001b[1;36m1000\u001b[0m\u001b[1;33m,\u001b[0m \u001b[1;36m700\u001b[0m\u001b[1;33m)\u001b[0m\u001b[1;33m)\u001b[0m\u001b[1;33m\u001b[0m\u001b[0m\n\u001b[0m",
      "\u001b[1;31mNameError\u001b[0m: name 'masked_image' is not defined"
     ]
    }
   ],
   "source": [
    "transform_matrix = np.array([1.,0,300,0,1,50]).reshape(2,3)\n",
    "target_transformed = cv2.warpAffine(masked_image, transform_matrix, (1000, 700))"
   ]
  },
  {
   "cell_type": "code",
   "execution_count": 5,
   "metadata": {},
   "outputs": [],
   "source": [
    "show_image(target)"
   ]
  },
  {
   "cell_type": "code",
   "execution_count": 14,
   "metadata": {},
   "outputs": [
    {
     "data": {
      "text/plain": [
       "(600, 800, 4)"
      ]
     },
     "execution_count": 14,
     "metadata": {},
     "output_type": "execute_result"
    }
   ],
   "source": [
    "target.shape"
   ]
  },
  {
   "cell_type": "markdown",
   "metadata": {},
   "source": [
    "# Cut the pice of image"
   ]
  },
  {
   "cell_type": "code",
   "execution_count": 121,
   "metadata": {},
   "outputs": [],
   "source": [
    "def cut_off(target, roi_corners):\n",
    "    \"\"\"Cut off a roi polygon from image\n",
    "    \n",
    "    Args:\n",
    "        target (ndarray): target image\n",
    "        roi_corners (list): list of polygon lists\n",
    "        \n",
    "    Returns:\n",
    "        A numpy array with roi cropped to its bounding box and mask\n",
    "    \"\"\"\n",
    "    \n",
    "    mask = np.zeros(target.shape, dtype=np.uint8)\n",
    "    channel_count = target.shape[2]\n",
    "    ignore_mask_color = (255,)*channel_count\n",
    "    roi_corners = np.array([roi_corners], dtype=np.int32)\n",
    "    \n",
    "    _ = cv2.fillPoly(mask, roi_corners, ignore_mask_color)\n",
    "    masked_image = cv2.bitwise_and(target, mask)\n",
    "    x,y,w,h = cv2.boundingRect(mask[:,:,1])\n",
    "    return masked_image[x:x+w,y:y+h,:], mask[x:x+w, y:y+h,1]"
   ]
  },
  {
   "cell_type": "code",
   "execution_count": 95,
   "metadata": {},
   "outputs": [],
   "source": [
    "im, mask = cut_off(target, [(10,10), (300,300), (10,300)])"
   ]
  },
  {
   "cell_type": "code",
   "execution_count": 96,
   "metadata": {},
   "outputs": [],
   "source": [
    "show_image(im)"
   ]
  },
  {
   "cell_type": "code",
   "execution_count": 31,
   "metadata": {},
   "outputs": [
    {
     "data": {
      "text/plain": [
       "(10, 10, 291, 291)"
      ]
     },
     "execution_count": 31,
     "metadata": {},
     "output_type": "execute_result"
    }
   ],
   "source": [
    "box"
   ]
  },
  {
   "cell_type": "markdown",
   "metadata": {},
   "source": [
    "# Put the pice on top"
   ]
  },
  {
   "cell_type": "code",
   "execution_count": 12,
   "metadata": {},
   "outputs": [],
   "source": [
    "def paste_pice(target, pice, mask, pos):\n",
    "    \"\"\"Paste pice on top of the target picture with mask.\n",
    "    \n",
    "    Args:\n",
    "        target (ndarray): target picture\n",
    "        pice (ndarray): picture to paste\n",
    "        mask (ndarray): picture mask\n",
    "        pos (tuple): (x, y) position on target picture to put pice on\n",
    "    \"\"\"\n",
    "    x0,y0 = pos\n",
    "    w,h = pice.shape[:2]\n",
    "    for x in range(0, w):\n",
    "        for y in range(0, h):\n",
    "            if np.any(mask[x,y,:]):\n",
    "                target[x+x0,y+y0,:] = pice[x,y,:]"
   ]
  },
  {
   "cell_type": "code",
   "execution_count": 130,
   "metadata": {},
   "outputs": [],
   "source": [
    "def paste_pice2(target, pice, mask, pos):\n",
    "    \"\"\"Paste pice on top of the target picture with mask.\n",
    "    \n",
    "    Args:\n",
    "        target (ndarray): target picture\n",
    "        pice (ndarray): picture to paste\n",
    "        mask (ndarray): picture mask\n",
    "        pos (tuple): (x, y) position on target picture to put pice on\n",
    "    \"\"\"\n",
    "    x,y = pos\n",
    "    w,h = pice.shape[:2]\n",
    "    mask_inv = cv2.bitwise_not(mask)\n",
    "    roi = target[:x+w, :y+h]\n",
    "    blacked = cv2.bitwise_and(roi, roi, mask = mask_inv)\n",
    "    dst = cv2.add(blacked,pice)\n",
    "    target[:x+w, :y+h] = dst"
   ]
  },
  {
   "cell_type": "code",
   "execution_count": 122,
   "metadata": {},
   "outputs": [],
   "source": [
    "pice, mask = cut_off(target, [(100,100), (500,200), (400,400), (200, 500)])"
   ]
  },
  {
   "cell_type": "code",
   "execution_count": null,
   "metadata": {},
   "outputs": [],
   "source": [
    "t = target.copy()"
   ]
  },
  {
   "cell_type": "code",
   "execution_count": 128,
   "metadata": {},
   "outputs": [],
   "source": [
    "paste_pice2(t, pice, mask, (0,0))"
   ]
  },
  {
   "cell_type": "code",
   "execution_count": 131,
   "metadata": {},
   "outputs": [],
   "source": []
  },
  {
   "cell_type": "code",
   "execution_count": 129,
   "metadata": {},
   "outputs": [],
   "source": [
    "show_image(t)"
   ]
  }
 ],
 "metadata": {
  "kernelspec": {
   "display_name": "Python 3",
   "language": "python",
   "name": "python3"
  },
  "language_info": {
   "codemirror_mode": {
    "name": "ipython",
    "version": 3
   },
   "file_extension": ".py",
   "mimetype": "text/x-python",
   "name": "python",
   "nbconvert_exporter": "python",
   "pygments_lexer": "ipython3",
   "version": "3.6.4"
  }
 },
 "nbformat": 4,
 "nbformat_minor": 2
}
